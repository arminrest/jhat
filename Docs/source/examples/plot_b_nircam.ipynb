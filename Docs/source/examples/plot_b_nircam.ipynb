{
  "cells": [
    {
      "cell_type": "code",
      "execution_count": null,
      "metadata": {
        "collapsed": false
      },
      "outputs": [],
      "source": [
        "%matplotlib inline"
      ]
    },
    {
      "cell_type": "markdown",
      "metadata": {},
      "source": [
        "\n# JWST NIRCAM\n\nAligning JWST/NIRCAM images with JHAT.\n"
      ]
    },
    {
      "cell_type": "markdown",
      "metadata": {},
      "source": [
        "An example NIRCam Dataset is downloaded, and then a series of\nalignment methods are used. For more information on the\nkey parameters used for alignment see \n`params:Useful Parameters`.\n\n"
      ]
    },
    {
      "cell_type": "code",
      "execution_count": null,
      "metadata": {
        "collapsed": false
      },
      "outputs": [],
      "source": [
        "import sys,os,glob\nfrom astropy.io import fits\nfrom astropy.table import Table\nfrom astropy.nddata import extract_array\nfrom astropy.coordinates import SkyCoord\nfrom astropy import wcs\nfrom astropy.wcs.utils import skycoord_to_pixel\nfrom astropy import units as u\nimport numpy as np\nimport matplotlib.pyplot as plt\nfrom astroquery.mast import Observations\nfrom astropy.visualization import (simple_norm,LinearStretch)\n\nimport jhat\nfrom jhat import jwst_photclass,st_wcs_align"
      ]
    },
    {
      "cell_type": "markdown",
      "metadata": {},
      "source": [
        "## Relative Alignment\n\n**Download some Data**\n\nFor this example we download 2 JWST NIRCam images from MAST. They're\nthe same field but different filters. Note that \nthe code will also work for level 3 data images.\n\n"
      ]
    },
    {
      "cell_type": "code",
      "execution_count": null,
      "metadata": {
        "collapsed": false
      },
      "outputs": [],
      "source": [
        "obs_table1 = Observations.query_criteria(obs_id='jw02107-o041_t019_nircam_clear-f200w')\ndata_products_by_obs = Observations.get_product_list(obs_table1)\ndata_products_by_obs = data_products_by_obs[data_products_by_obs['calib_level']==2]\ndata_products_by_obs = data_products_by_obs[data_products_by_obs['productSubGroupDescription']=='CAL'][0]\nObservations.download_products(data_products_by_obs,extension='fits')\n\nobs_table2 = Observations.query_criteria(obs_id='jw02107-o041_t019_nircam_clear-f360m')\ndata_products_by_obs = Observations.get_product_list(obs_table2)\ndata_products_by_obs = data_products_by_obs[data_products_by_obs['calib_level']==2]\ndata_products_by_obs = data_products_by_obs[data_products_by_obs['productSubGroupDescription']=='CAL'][0]\nObservations.download_products(data_products_by_obs,extension='fits')"
      ]
    },
    {
      "cell_type": "markdown",
      "metadata": {},
      "source": [
        "**Examine the Reference Image**\n\n\n"
      ]
    },
    {
      "cell_type": "code",
      "execution_count": null,
      "metadata": {
        "collapsed": false
      },
      "outputs": [],
      "source": [
        "ref_image = glob.glob('mastDownload/JWST/*nrcb1*/*cal.fits')[0]\n\nref_fits = fits.open(ref_image)\nref_data = fits.open(ref_image)['SCI',1].data\nnorm1 = simple_norm(ref_data,stretch='linear',min_cut=-.5,max_cut=3)\n\nplt.imshow(ref_data, origin='lower',\n                      norm=norm1,cmap='gray')\nplt.gca().tick_params(labelcolor='none',axis='both',color='none')\nplt.show()"
      ]
    },
    {
      "cell_type": "markdown",
      "metadata": {},
      "source": [
        "**Zoom in to see the offset**\n\nHere add an artificial offset to the wcs, and then we see the \nsame star in both images at the same ra/dec\nlocation, demonstrating a large offset between\nthe images.  \n\n"
      ]
    },
    {
      "cell_type": "code",
      "execution_count": null,
      "metadata": {
        "collapsed": false
      },
      "outputs": [],
      "source": [
        "star_location = SkyCoord('23:09:41.0532','-43:26:41.128',unit=(u.hourangle,u.deg))\nalign_image = glob.glob('mastDownload/JWST/*long*/*cal.fits')[0]\nalign_fits = fits.open(align_image)\nalign_fits['SCI',1].header['CRPIX1']+=1\nalign_fits['SCI',1].header['CRPIX2']+=1\nalign_fits.writeto(align_image,overwrite=True)\n\nalign_data = fits.open(align_image)['SCI',1].data\nref_y,ref_x = skycoord_to_pixel(star_location,wcs.WCS(ref_fits['SCI',1],ref_fits))\nalign_y,align_x = skycoord_to_pixel(star_location,wcs.WCS(align_fits['SCI',1],align_fits))\n\nref_cutout = extract_array(ref_data,(11,11),(ref_x,ref_y))\nalign_cutout = extract_array(align_data,(11,11),(align_x,align_y))\nnorm1 = simple_norm(ref_cutout,stretch='linear',min_cut=-.5,max_cut=3)\nnorm2 = simple_norm(align_cutout,stretch='linear',min_cut=-.5,max_cut=3)\nfig,axes = plt.subplots(1,2)\naxes[0].imshow(ref_cutout, origin='lower',\n                      norm=norm1,cmap='gray')\naxes[1].imshow(align_cutout, origin='lower',\n                      norm=norm2,cmap='gray')\naxes[0].set_title('Reference')\naxes[1].set_title('To Align')\naxes[0].tick_params(labelcolor='none',axis='both',color='none')\naxes[1].tick_params(labelcolor='none',axis='both',color='none')\n\nplt.show()"
      ]
    },
    {
      "cell_type": "markdown",
      "metadata": {},
      "source": [
        "**Create a Photometric Catalog for Relative Alignment**\n\nWe choose one of the images to be the reference image, and then \ncreate a catalog that we will use to align the other image.\n\n"
      ]
    },
    {
      "cell_type": "code",
      "execution_count": null,
      "metadata": {
        "collapsed": false
      },
      "outputs": [],
      "source": [
        "jwst_phot = jwst_photclass()\njwst_phot.run_phot(imagename=ref_image,photfilename='auto',overwrite=True,ee_radius=80)\nref_catname = ref_image.replace('.fits','.phot.txt') # the default\nrefcat = Table.read(ref_catname,format='ascii')\nprint(refcat)"
      ]
    },
    {
      "cell_type": "markdown",
      "metadata": {},
      "source": [
        "**Align the second image**\n\nThe plots outputted here show the various steps used by jhat to\ndetermine the true matching sources in the image, and the\nsubsequent correction needed for optimal alignment.\n\n"
      ]
    },
    {
      "cell_type": "code",
      "execution_count": null,
      "metadata": {
        "collapsed": false
      },
      "outputs": [],
      "source": [
        "wcs_align = st_wcs_align()\n\n\nwcs_align.run_all(align_image,\n\t\t  telescope='jwst',\n\t\t  outsubdir='mastDownload',\n          refcat_racol='ra',\n          refcat_deccol='dec',\n          refcat_magcol='mag',\n          refcat_magerrcol='dmag',\n          overwrite=True,\n          d2d_max=1,\n          showplots=2,\n          refcatname=ref_catname,\n          histocut_order='dxdy',\n              sharpness_lim=(0.3,0.9),\n              roundness1_lim=(-0.7, 0.7),\n              SNR_min= 3,\n              dmag_max=1.0,\n              objmag_lim =(14,24))"
      ]
    },
    {
      "cell_type": "markdown",
      "metadata": {},
      "source": [
        "**Check the Output**\n\nThe reference image has not changed, but let's read in the newly\naligned image and compare with the original. \nsubsequent correction needed for optimal alignment.\n\n"
      ]
    },
    {
      "cell_type": "code",
      "execution_count": null,
      "metadata": {
        "collapsed": false
      },
      "outputs": [],
      "source": [
        "aligned_image = os.path.join('mastDownload',os.path.basename(align_image).replace('cal.fits','jhat.fits'))\naligned_fits = fits.open(aligned_image)\naligned_data = fits.open(aligned_image)['SCI',1].data\naligned_y,aligned_x = skycoord_to_pixel(star_location,wcs.WCS(aligned_fits['SCI',1],aligned_fits))\naligned_cutout = extract_array(aligned_data,(11,11),(aligned_x,aligned_y))\n\nnorm3 = simple_norm(aligned_cutout,stretch='linear',min_cut=-.5,max_cut=3)\nfig,axes = plt.subplots(1,3)\naxes[0].imshow(ref_cutout, origin='lower',\n                      norm=norm1,cmap='gray')\naxes[1].imshow(align_cutout, origin='lower',\n                      norm=norm2,cmap='gray')\naxes[2].imshow(aligned_cutout, origin='lower',\n                      norm=norm3,cmap='gray')\naxes[0].set_title('Reference')\naxes[1].set_title('To Align')\naxes[2].set_title('Aligned')\nfor i in range(3):\n\taxes[i].tick_params(labelcolor='none',axis='both',color='none')\n\n\nplt.show()"
      ]
    },
    {
      "cell_type": "markdown",
      "metadata": {},
      "source": [
        "## Align to Catalog\n\nYou can also align each image to the Gaia DR3 catalog, or you\ncould replace the catalog created in step one with your own\ncatalog of the field. \n\n"
      ]
    },
    {
      "cell_type": "code",
      "execution_count": null,
      "metadata": {
        "collapsed": false
      },
      "outputs": [],
      "source": [
        "wcs_align.run_all(align_image,\n\t\t  telescope='jwst',\n\t\t  outsubdir='mastDownload',\n          overwrite=True,\n          d2d_max=.5,\n          showplots=0,\n          refcatname='Gaia',\n          histocut_order='dxdy',\n              sharpness_lim=(0.3,0.9),\n              roundness1_lim=(-0.7, 0.7),\n              SNR_min= 3,\n              dmag_max=1.0,\n              objmag_lim =(14,24))\n\naligned_image = os.path.join('mastDownload',os.path.basename(align_image).replace('cal.fits','jhat.fits'))\naligned_fits = fits.open(aligned_image)\naligned_data = fits.open(aligned_image)['SCI',1].data\naligned_y,aligned_x = skycoord_to_pixel(star_location,wcs.WCS(aligned_fits['SCI',1],aligned_fits))\naligned_cutout = extract_array(aligned_data,(11,11),(aligned_x,aligned_y))\n\nnorm3 = simple_norm(aligned_cutout,stretch='linear',min_cut=-.5,max_cut=3)\nfig,axes = plt.subplots(1,2)\naxes[0].imshow(align_cutout, origin='lower',\n                      norm=norm2,cmap='gray')\naxes[1].imshow(aligned_cutout, origin='lower',\n                      norm=norm3,cmap='gray')\naxes[0].set_title('To Align')\naxes[1].set_title('Aligned')\nfor i in range(2):\n\taxes[i].tick_params(labelcolor='none',axis='both',color='none')\n\n\nplt.show()"
      ]
    }
  ],
  "metadata": {
    "kernelspec": {
      "display_name": "Python 3",
      "language": "python",
      "name": "python3"
    },
    "language_info": {
      "codemirror_mode": {
        "name": "ipython",
        "version": 3
      },
      "file_extension": ".py",
      "mimetype": "text/x-python",
      "name": "python",
      "nbconvert_exporter": "python",
      "pygments_lexer": "ipython3",
      "version": "3.10.4"
    }
  },
  "nbformat": 4,
  "nbformat_minor": 0
}