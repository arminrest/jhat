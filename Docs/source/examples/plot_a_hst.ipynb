{
  "cells": [
    {
      "cell_type": "code",
      "execution_count": null,
      "metadata": {
        "collapsed": false
      },
      "outputs": [],
      "source": [
        "%matplotlib inline"
      ]
    },
    {
      "cell_type": "markdown",
      "metadata": {},
      "source": [
        "\n# Hubble\n\nAligning HST images with JHAT.\n"
      ]
    },
    {
      "cell_type": "markdown",
      "metadata": {},
      "source": [
        "An example HST Dataset is downloaded, and then a series of\nalignment methods are used. For more information on the\nkey parameters used for alignment see \n`params:Useful Parameters`.\n\n"
      ]
    },
    {
      "cell_type": "code",
      "execution_count": null,
      "metadata": {
        "collapsed": false
      },
      "outputs": [],
      "source": [
        "import sys,os,glob\nfrom astropy.io import fits\nfrom astropy.table import Table\nfrom astropy.nddata import extract_array\nfrom astropy.coordinates import SkyCoord\nfrom astropy import wcs\nfrom astropy.wcs.utils import skycoord_to_pixel\nfrom astropy import units as u\nimport numpy as np\nimport matplotlib.pyplot as plt\nfrom astroquery.mast import Observations\nfrom astropy.visualization import (simple_norm,LinearStretch)\n\nimport jhat\nfrom jhat import hst_photclass,st_wcs_align"
      ]
    },
    {
      "cell_type": "markdown",
      "metadata": {},
      "source": [
        "## Relative Alignment\n\n**Download some Data**\n\nFor this example we download 2 HST DRZ images from MAST. They're\nthe same filter and same field, just separated in time. \n\n"
      ]
    },
    {
      "cell_type": "code",
      "execution_count": null,
      "metadata": {
        "collapsed": false
      },
      "outputs": [],
      "source": [
        "obs_table = Observations.query_criteria(obs_id='hst_16264_12_wfc3_ir_f110w_iebc12')\nobs_table1 = obs_table[obs_table['filters']=='F110W']\n\nobs_table = Observations.query_criteria(obs_id='hst_16264_15_wfc3_ir_f110w_iebc15')\nobs_table2 = obs_table[obs_table['filters']=='F110W']\n\ndata_products_by_obs = Observations.get_product_list(obs_table1)\ndata_products_by_obs = data_products_by_obs[data_products_by_obs['calib_level']==3]\ndata_products_by_obs = data_products_by_obs[data_products_by_obs['productSubGroupDescription']=='DRZ'][0]\nObservations.download_products(data_products_by_obs,extension='fits')\n\ndata_products_by_obs = Observations.get_product_list(obs_table2)\ndata_products_by_obs = data_products_by_obs[data_products_by_obs['calib_level']==3]\ndata_products_by_obs = data_products_by_obs[data_products_by_obs['productSubGroupDescription']=='DRZ'][0]\nObservations.download_products(data_products_by_obs,extension='fits')"
      ]
    },
    {
      "cell_type": "markdown",
      "metadata": {},
      "source": [
        "**Examine the Reference Image**\n\n\n"
      ]
    },
    {
      "cell_type": "code",
      "execution_count": null,
      "metadata": {
        "collapsed": false
      },
      "outputs": [],
      "source": [
        "files = glob.glob('mastDownload/HST/*/*drz.fits')\nref_image = files[0]\nref_fits = fits.open(ref_image)\nref_data = fits.open(ref_image)['SCI',1].data\nnorm1 = simple_norm(ref_data,stretch='log',min_cut=-1,max_cut=15)\n\nplt.imshow(ref_data, origin='lower',\n                      norm=norm1,cmap='gray')\nplt.gca().tick_params(labelcolor='none',axis='both',color='none')\nplt.show()"
      ]
    },
    {
      "cell_type": "markdown",
      "metadata": {},
      "source": [
        "**Zoom in to see the offset**\n\nHere add an artificial offset to the wcs, and then we see the \nsame star in both images at the same ra/dec\nlocation, demonstrating a large offset between\nthe images.  \n\n"
      ]
    },
    {
      "cell_type": "code",
      "execution_count": null,
      "metadata": {
        "collapsed": false
      },
      "outputs": [],
      "source": [
        "star_location = SkyCoord('21:29:40.5351','+0:04:42.697',unit=(u.hourangle,u.deg))\nalign_image = files[1]\nalign_fits = fits.open(align_image)\nalign_fits['SCI',1].header['CRPIX1']+=2\nalign_fits['SCI',1].header['CRPIX2']+=2\nalign_fits.writeto(align_image,overwrite=True)\n\nalign_data = fits.open(align_image)['SCI',1].data\nref_y,ref_x = skycoord_to_pixel(star_location,wcs.WCS(ref_fits['SCI',1],ref_fits))\nalign_y,align_x = skycoord_to_pixel(star_location,wcs.WCS(align_fits['SCI',1],align_fits))\n\nref_cutout = extract_array(ref_data,(11,11),(ref_x,ref_y))\nalign_cutout = extract_array(align_data,(11,11),(align_x,align_y))\nnorm1 = simple_norm(ref_cutout,stretch='log',min_cut=-1,max_cut=200)\nnorm2 = simple_norm(align_cutout,stretch='log',min_cut=-1,max_cut=200)\nfig,axes = plt.subplots(1,2)\naxes[0].imshow(ref_cutout, origin='lower',\n                      norm=norm1,cmap='gray')\naxes[1].imshow(align_cutout, origin='lower',\n                      norm=norm2,cmap='gray')\naxes[0].set_title('Reference')\naxes[1].set_title('To Align')\naxes[0].tick_params(labelcolor='none',axis='both',color='none')\naxes[1].tick_params(labelcolor='none',axis='both',color='none')\n\nplt.show()"
      ]
    },
    {
      "cell_type": "markdown",
      "metadata": {},
      "source": [
        "**Create a Photometric Catalog for Relative Alignment**\n\nWe choose one of the images to be the reference image, and then \ncreate a catalog that we will use to align the other image.\n\n"
      ]
    },
    {
      "cell_type": "code",
      "execution_count": null,
      "metadata": {
        "collapsed": false
      },
      "outputs": [],
      "source": [
        "hst_phot = hst_photclass(psf_fwhm=1.8,aperture_radius=5)\nhst_phot.run_phot(imagename=ref_image,photfilename='auto',overwrite=True)\nref_catname = ref_image.replace('.fits','.phot.txt') # the default\nrefcat = Table.read(ref_catname,format='ascii')\nprint(refcat)"
      ]
    },
    {
      "cell_type": "markdown",
      "metadata": {},
      "source": [
        "**Align the second image**\n\nThe plots outputted here show the various steps used by jhat to\ndetermine the true matching sources in the image, and the\nsubsequent correction needed for optimal alignment.\n\n"
      ]
    },
    {
      "cell_type": "code",
      "execution_count": null,
      "metadata": {
        "collapsed": false
      },
      "outputs": [],
      "source": [
        "wcs_align = st_wcs_align()\n\n\nwcs_align.run_all(align_image,\n\t\t  telescope='hst',\n\t\t  outsubdir='mastDownload',\n          refcat_racol='ra',\n          refcat_deccol='dec',\n          refcat_magcol='mag',\n          refcat_magerrcol='dmag',\n          overwrite=True,\n          d2d_max=.5,\n          showplots=2,\n          refcatname=ref_catname,\n          histocut_order='dxdy',\n              sharpness_lim=(0.3,0.9),\n              roundness1_lim=(-0.7, 0.7),\n              SNR_min= 3,\n              dmag_max=1.0,\n              objmag_lim =(14,24))"
      ]
    },
    {
      "cell_type": "markdown",
      "metadata": {},
      "source": [
        "**Check the Output**\n\nThe reference image has not changed, but let's read in the newly\naligned image and compare with the original. \nsubsequent correction needed for optimal alignment.\n\n"
      ]
    },
    {
      "cell_type": "code",
      "execution_count": null,
      "metadata": {
        "collapsed": false
      },
      "outputs": [],
      "source": [
        "aligned_image = os.path.join('mastDownload',os.path.basename(align_image).replace('drz.fits','jhat.fits'))\naligned_fits = fits.open(aligned_image)\naligned_data = fits.open(aligned_image)['SCI',1].data\naligned_y,aligned_x = skycoord_to_pixel(star_location,wcs.WCS(aligned_fits['SCI',1],aligned_fits))\naligned_cutout = extract_array(aligned_data,(11,11),(aligned_x,aligned_y))\n\nnorm3 = simple_norm(aligned_cutout,stretch='log',min_cut=-1,max_cut=200)\nfig,axes = plt.subplots(1,3)\naxes[0].imshow(ref_cutout, origin='lower',\n                      norm=norm1,cmap='gray')\naxes[1].imshow(align_cutout, origin='lower',\n                      norm=norm2,cmap='gray')\naxes[2].imshow(aligned_cutout, origin='lower',\n                      norm=norm3,cmap='gray')\naxes[0].set_title('Reference')\naxes[1].set_title('To Align')\naxes[2].set_title('Aligned')\nfor i in range(3):\n\taxes[i].tick_params(labelcolor='none',axis='both',color='none')\n\n\nplt.show()"
      ]
    },
    {
      "cell_type": "markdown",
      "metadata": {},
      "source": [
        "## Align to Gaia\n\nYou can also align each image to the Gaia DR3 catalog, or you\ncould replace the catalog created in step one with your own\ncatalog of the field. \n\n"
      ]
    },
    {
      "cell_type": "code",
      "execution_count": null,
      "metadata": {
        "collapsed": false
      },
      "outputs": [],
      "source": [
        "wcs_align.run_all(align_image,\n\t\t  telescope='hst',\n\t\t  outsubdir='mastDownload',\n          overwrite=True,\n          d2d_max=.5,\n          showplots=0,\n          refcatname='Gaia',\n          histocut_order='dxdy',\n              sharpness_lim=(0.3,0.9),\n              roundness1_lim=(-0.7, 0.7),\n              SNR_min= 3,\n              dmag_max=1.0,\n              objmag_lim =(14,24))\n\naligned_image = os.path.join('mastDownload',os.path.basename(align_image).replace('drz.fits','jhat.fits'))\naligned_fits = fits.open(aligned_image)\naligned_data = fits.open(aligned_image)['SCI',1].data\naligned_y,aligned_x = skycoord_to_pixel(star_location,wcs.WCS(aligned_fits['SCI',1],aligned_fits))\naligned_cutout = extract_array(aligned_data,(11,11),(aligned_x,aligned_y))\n\nnorm3 = simple_norm(aligned_cutout,stretch='log',min_cut=-1,max_cut=200)\nfig,axes = plt.subplots(1,2)\naxes[0].imshow(align_cutout, origin='lower',\n                      norm=norm2,cmap='gray')\naxes[1].imshow(aligned_cutout, origin='lower',\n                      norm=norm3,cmap='gray')\naxes[0].set_title('To Align')\naxes[1].set_title('Aligned')\nfor i in range(2):\n\taxes[i].tick_params(labelcolor='none',axis='both',color='none')\n\n\nplt.show()"
      ]
    },
    {
      "cell_type": "markdown",
      "metadata": {},
      "source": [
        "## Large Offsets\n\nSometimes the initial images are so poorly aligned, that the code\nfails. Here we read in the same image as in the first example,\nand add an additional 3 pixel offset in the wcs. \n\n"
      ]
    },
    {
      "cell_type": "code",
      "execution_count": null,
      "metadata": {
        "collapsed": false
      },
      "outputs": [],
      "source": [
        "files = glob.glob('mastDownload/HST/*/*drz.fits')\nalign_image = files[1]\nalign_fits = fits.open(align_image)\nalign_fits['SCI',1].header['CRPIX1']+=3\nalign_fits['SCI',1].header['CRPIX2']+=3\nalign_fits.writeto(align_image,overwrite=True)\n\nalign_data = fits.open(align_image)['SCI',1].data\nref_y,ref_x = skycoord_to_pixel(star_location,wcs.WCS(ref_fits['SCI',1],ref_fits))\nalign_y,align_x = skycoord_to_pixel(star_location,wcs.WCS(align_fits['SCI',1],align_fits))\n\nref_cutout = extract_array(ref_data,(11,11),(ref_x,ref_y))\nalign_cutout = extract_array(align_data,(11,11),(align_x,align_y))\nnorm1 = simple_norm(ref_cutout,stretch='log',min_cut=-1,max_cut=200)\nnorm2 = simple_norm(align_cutout,stretch='log',min_cut=-1,max_cut=200)\nfig,axes = plt.subplots(1,2)\naxes[0].imshow(ref_cutout, origin='lower',\n                      norm=norm1,cmap='gray')\naxes[1].imshow(align_cutout, origin='lower',\n                      norm=norm2,cmap='gray')\naxes[0].set_title('Reference')\naxes[1].set_title('To Align')\naxes[0].tick_params(labelcolor='none',axis='both',color='none')\naxes[1].tick_params(labelcolor='none',axis='both',color='none')\n\nplt.show()\n\nwcs_align = st_wcs_align()\n\ntry:\n\twcs_align.run_all(align_image,\n\t\t  telescope='hst',\n\t\t  outsubdir='mastDownload',\n          refcat_racol='ra',\n          refcat_deccol='dec',\n          refcat_magcol='mag',\n          refcat_magerrcol='dmag',\n          overwrite=True,\n          d2d_max=.5,\n          showplots=2,\n          refcatname=ref_catname,\n          histocut_order='dxdy',\n              sharpness_lim=(0.3,0.9),\n              roundness1_lim=(-0.7, 0.7),\n              SNR_min= 3,\n              dmag_max=1.0,\n              objmag_lim =(14,24))\n\nexcept:\n\tprint('Failed for not enough matches!')"
      ]
    },
    {
      "cell_type": "markdown",
      "metadata": {},
      "source": [
        "This is what a failure looks like (compare to the plots above).\nThere are now a couple of options here. You can increase the \nd2d_max parameter, which increases the allowed distance between \nsources being matched in the reference and target images:\n\n"
      ]
    },
    {
      "cell_type": "code",
      "execution_count": null,
      "metadata": {
        "collapsed": false
      },
      "outputs": [],
      "source": [
        "wcs_align = st_wcs_align()\n\n\nwcs_align.run_all(align_image,\n\t\t  telescope='hst',\n\t\t  outsubdir='mastDownload',\n          refcat_racol='ra',\n          refcat_deccol='dec',\n          refcat_magcol='mag',\n          refcat_magerrcol='dmag',\n          overwrite=True,\n          d2d_max=1,\n          showplots=2,\n          refcatname=ref_catname,\n          histocut_order='dxdy',\n              sharpness_lim=(0.3,0.9),\n              roundness1_lim=(-0.7, 0.7),\n              SNR_min= 3,\n              dmag_max=1.0,\n              objmag_lim =(14,24))\n\naligned_image = os.path.join('mastDownload',os.path.basename(align_image).replace('drz.fits','jhat.fits'))\naligned_fits = fits.open(aligned_image)\naligned_data = fits.open(aligned_image)['SCI',1].data\naligned_y,aligned_x = skycoord_to_pixel(star_location,wcs.WCS(aligned_fits['SCI',1],aligned_fits))\naligned_cutout = extract_array(aligned_data,(11,11),(aligned_x,aligned_y))\n\nnorm3 = simple_norm(aligned_cutout,stretch='log',min_cut=-1,max_cut=200)\nfig,axes = plt.subplots(1,3)\naxes[0].imshow(ref_cutout, origin='lower',\n                      norm=norm1,cmap='gray')\naxes[1].imshow(align_cutout, origin='lower',\n                      norm=norm2,cmap='gray')\naxes[2].imshow(aligned_cutout, origin='lower',\n                      norm=norm3,cmap='gray')\naxes[0].set_title('Reference')\naxes[1].set_title('To Align')\naxes[2].set_title('Aligned')\nfor i in range(3):\n\taxes[i].tick_params(labelcolor='none',axis='both',color='none')\n\n\nplt.show()"
      ]
    },
    {
      "cell_type": "markdown",
      "metadata": {},
      "source": [
        "Or you can apply a rough guess for the offset, and then use a\nsmaller d2d_max for matching:\n\n"
      ]
    },
    {
      "cell_type": "code",
      "execution_count": null,
      "metadata": {
        "collapsed": false
      },
      "outputs": [],
      "source": [
        "wcs_align = st_wcs_align()\n\n\nwcs_align.run_all(align_image,\n\t\t  telescope='hst',\n\t\t  outsubdir='mastDownload',\n          refcat_racol='ra',\n          refcat_deccol='dec',\n          refcat_magcol='mag',\n          refcat_magerrcol='dmag',\n          overwrite=True,\n          d2d_max=.25,\n          xshift=5,\n          yshift=5,\n          showplots=2,\n          refcatname=ref_catname,\n          histocut_order='dxdy',\n              sharpness_lim=(0.3,0.9),\n              roundness1_lim=(-0.7, 0.7),\n              SNR_min= 3,\n              dmag_max=1.0,\n              objmag_lim =(14,24))\n\naligned_image = os.path.join('mastDownload',os.path.basename(align_image).replace('drz.fits','jhat.fits'))\naligned_fits = fits.open(aligned_image)\naligned_data = fits.open(aligned_image)['SCI',1].data\naligned_y,aligned_x = skycoord_to_pixel(star_location,wcs.WCS(aligned_fits['SCI',1],aligned_fits))\naligned_cutout = extract_array(aligned_data,(11,11),(aligned_x,aligned_y))\n\nnorm3 = simple_norm(aligned_cutout,stretch='log',min_cut=-1,max_cut=200)\nfig,axes = plt.subplots(1,3)\naxes[0].imshow(ref_cutout, origin='lower',\n                      norm=norm1,cmap='gray')\naxes[1].imshow(align_cutout, origin='lower',\n                      norm=norm2,cmap='gray')\naxes[2].imshow(aligned_cutout, origin='lower',\n                      norm=norm3,cmap='gray')\naxes[0].set_title('Reference')\naxes[1].set_title('To Align')\naxes[2].set_title('Aligned')\nfor i in range(3):\n\taxes[i].tick_params(labelcolor='none',axis='both',color='none')\n\n\nplt.show()"
      ]
    }
  ],
  "metadata": {
    "kernelspec": {
      "display_name": "Python 3",
      "language": "python",
      "name": "python3"
    },
    "language_info": {
      "codemirror_mode": {
        "name": "ipython",
        "version": 3
      },
      "file_extension": ".py",
      "mimetype": "text/x-python",
      "name": "python",
      "nbconvert_exporter": "python",
      "pygments_lexer": "ipython3",
      "version": "3.10.4"
    }
  },
  "nbformat": 4,
  "nbformat_minor": 0
}